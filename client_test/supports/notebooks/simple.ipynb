{
 "cells": [
  {
   "cell_type": "code",
   "execution_count": null,
   "id": "7bf9d306",
   "metadata": {
    "tags": [
     "parameters"
    ]
   },
   "outputs": [],
   "source": [
    "server_addr = None"
   ]
  },
  {
   "cell_type": "code",
   "execution_count": null,
   "id": "dcd68a33",
   "metadata": {},
   "outputs": [],
   "source": [
    "from modal.client import Client\n",
    "from modal_proto import api_pb2\n",
    "client = Client(server_addr, api_pb2.CLIENT_TYPE_CLIENT, (\"foo-id\", \"foo-secret\"))"
   ]
  },
  {
   "cell_type": "code",
   "execution_count": null,
   "id": "02f579bb",
   "metadata": {},
   "outputs": [],
   "source": [
    "import modal\n",
    "\n",
    "stub = modal.Stub()\n",
    "\n",
    "@stub.function\n",
    "def hello():\n",
    "    print(\"running\")"
   ]
  },
  {
   "cell_type": "code",
   "execution_count": null,
   "id": "b66c04a7",
   "metadata": {
    "tags": [
     "main"
    ]
   },
   "outputs": [],
   "source": [
    "with client:\n",
    "    with stub.run(client=client, show_progress=True):\n",
    "        hello()"
   ]
  },
  {
   "cell_type": "code",
   "execution_count": null,
   "id": "3ad62052",
   "metadata": {},
   "outputs": [],
   "source": []
  }
 ],
 "metadata": {
  "celltoolbar": "Tags",
  "kernelspec": {
   "display_name": "Python 3 (ipykernel)",
   "language": "python",
   "name": "python3"
  },
  "language_info": {
   "codemirror_mode": {
    "name": "ipython",
    "version": 3
   },
   "file_extension": ".py",
   "mimetype": "text/x-python",
   "name": "python",
   "nbconvert_exporter": "python",
   "pygments_lexer": "ipython3",
   "version": "3.9.9"
  }
 },
 "nbformat": 4,
 "nbformat_minor": 5
}
